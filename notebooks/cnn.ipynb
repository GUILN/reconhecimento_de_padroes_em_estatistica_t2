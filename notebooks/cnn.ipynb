{
 "cells": [
  {
   "cell_type": "markdown",
   "metadata": {},
   "source": [
    "# CNN"
   ]
  },
  {
   "cell_type": "code",
   "execution_count": 22,
   "metadata": {},
   "outputs": [],
   "source": [
    "DATASET_FOLDER = \"../discard_datasets/cnn/dataset\"\n",
    "TRAINING_DATA_FOLDER = DATASET_FOLDER + \"/training_set\"\n",
    "TESTING_DATA_FOLDER = DATASET_FOLDER + \"/test_set\"\n",
    "SIGLE_PREDICTION_FOLDER = DATASET_FOLDER + \"/single_prediction\"\n",
    "\n",
    "MODEL_FILE = \"../models/cnn_model.keras\"\n",
    "LOAD_PRETRAINED_MODEL = False"
   ]
  },
  {
   "cell_type": "markdown",
   "metadata": {},
   "source": [
    "## Importing the Libraries"
   ]
  },
  {
   "cell_type": "code",
   "execution_count": 2,
   "metadata": {},
   "outputs": [],
   "source": [
    "import tensorflow as tf\n",
    "from keras.preprocessing.image import ImageDataGenerator"
   ]
  },
  {
   "cell_type": "code",
   "execution_count": 3,
   "metadata": {},
   "outputs": [
    {
     "data": {
      "text/plain": [
       "'2.14.0'"
      ]
     },
     "execution_count": 3,
     "metadata": {},
     "output_type": "execute_result"
    }
   ],
   "source": [
    "tf.__version__"
   ]
  },
  {
   "cell_type": "markdown",
   "metadata": {},
   "source": [
    "## Part 1 - Data Preprocessing"
   ]
  },
  {
   "cell_type": "markdown",
   "metadata": {},
   "source": [
    "### Preprocessing the Training set"
   ]
  },
  {
   "cell_type": "code",
   "execution_count": 4,
   "metadata": {},
   "outputs": [],
   "source": [
    "PRE_RESCALE = 1.0 / 255\n",
    "PRE_SIZE = (64, 64)\n",
    "PRE_BATCH_SIZE = 32"
   ]
  },
  {
   "cell_type": "code",
   "execution_count": 5,
   "metadata": {},
   "outputs": [
    {
     "name": "stdout",
     "output_type": "stream",
     "text": [
      "Found 8000 images belonging to 2 classes.\n"
     ]
    }
   ],
   "source": [
    "# image augmentation\n",
    "train_datagen = ImageDataGenerator(\n",
    "    rescale=PRE_RESCALE, shear_range=0.2, zoom_range=0.2, horizontal_flip=True\n",
    ")\n",
    "\n",
    "training_set = train_datagen.flow_from_directory(\n",
    "    TRAINING_DATA_FOLDER,\n",
    "    target_size=PRE_SIZE,\n",
    "    batch_size=PRE_BATCH_SIZE,\n",
    "    class_mode=\"binary\",\n",
    ")"
   ]
  },
  {
   "cell_type": "markdown",
   "metadata": {},
   "source": [
    "### Preprocessing the Test set"
   ]
  },
  {
   "cell_type": "code",
   "execution_count": 6,
   "metadata": {},
   "outputs": [
    {
     "name": "stdout",
     "output_type": "stream",
     "text": [
      "Found 2000 images belonging to 2 classes.\n"
     ]
    }
   ],
   "source": [
    "test_datagen = ImageDataGenerator(rescale=PRE_RESCALE)\n",
    "test_set = test_datagen.flow_from_directory(\n",
    "    TESTING_DATA_FOLDER,\n",
    "    target_size=PRE_SIZE,\n",
    "    batch_size=PRE_BATCH_SIZE,\n",
    "    class_mode=\"binary\",\n",
    ")"
   ]
  },
  {
   "cell_type": "markdown",
   "metadata": {},
   "source": [
    "## Part 2 - Building the CNN"
   ]
  },
  {
   "cell_type": "markdown",
   "metadata": {},
   "source": [
    "### Initialising the CNN"
   ]
  },
  {
   "cell_type": "code",
   "execution_count": 7,
   "metadata": {},
   "outputs": [],
   "source": [
    "cnn = tf.keras.models.Sequential()"
   ]
  },
  {
   "cell_type": "markdown",
   "metadata": {},
   "source": [
    "#### Step 1 - Convolution"
   ]
  },
  {
   "cell_type": "code",
   "execution_count": 8,
   "metadata": {},
   "outputs": [],
   "source": [
    "cnn.add(\n",
    "    tf.keras.layers.Conv2D(\n",
    "        filters=32, kernel_size=3, activation=\"relu\", input_shape=[64, 64, 3]\n",
    "    )\n",
    ")"
   ]
  },
  {
   "cell_type": "markdown",
   "metadata": {},
   "source": [
    "#### Step 2 - Pooling"
   ]
  },
  {
   "cell_type": "code",
   "execution_count": 9,
   "metadata": {},
   "outputs": [],
   "source": [
    "cnn.add(tf.keras.layers.MaxPool2D(pool_size=2, strides=2))"
   ]
  },
  {
   "cell_type": "markdown",
   "metadata": {},
   "source": [
    "### Adding a second convolutional layer"
   ]
  },
  {
   "cell_type": "code",
   "execution_count": 10,
   "metadata": {},
   "outputs": [],
   "source": [
    "cnn.add(tf.keras.layers.Conv2D(filters=32, kernel_size=3, activation=\"relu\"))\n",
    "cnn.add(tf.keras.layers.MaxPool2D(pool_size=2, strides=2))"
   ]
  },
  {
   "cell_type": "markdown",
   "metadata": {},
   "source": [
    "#### Step 3 - Flattening"
   ]
  },
  {
   "cell_type": "code",
   "execution_count": 11,
   "metadata": {},
   "outputs": [],
   "source": [
    "cnn.add(tf.keras.layers.Flatten())"
   ]
  },
  {
   "cell_type": "markdown",
   "metadata": {},
   "source": [
    "#### Step 4 - Full Connection"
   ]
  },
  {
   "cell_type": "code",
   "execution_count": 12,
   "metadata": {},
   "outputs": [],
   "source": [
    "cnn.add(tf.keras.layers.Dense(units=128, activation=\"relu\"))"
   ]
  },
  {
   "cell_type": "markdown",
   "metadata": {},
   "source": [
    "#### Step 5 - Output Layer"
   ]
  },
  {
   "cell_type": "code",
   "execution_count": 13,
   "metadata": {},
   "outputs": [],
   "source": [
    "cnn.add(tf.keras.layers.Dense(units=1, activation=\"sigmoid\"))"
   ]
  },
  {
   "cell_type": "code",
   "execution_count": 14,
   "metadata": {},
   "outputs": [
    {
     "name": "stdout",
     "output_type": "stream",
     "text": [
      "Model: \"sequential\"\n",
      "_________________________________________________________________\n",
      " Layer (type)                Output Shape              Param #   \n",
      "=================================================================\n",
      " conv2d (Conv2D)             (None, 62, 62, 32)        896       \n",
      "                                                                 \n",
      " max_pooling2d (MaxPooling2  (None, 31, 31, 32)        0         \n",
      " D)                                                              \n",
      "                                                                 \n",
      " conv2d_1 (Conv2D)           (None, 29, 29, 32)        9248      \n",
      "                                                                 \n",
      " max_pooling2d_1 (MaxPoolin  (None, 14, 14, 32)        0         \n",
      " g2D)                                                            \n",
      "                                                                 \n",
      " flatten (Flatten)           (None, 6272)              0         \n",
      "                                                                 \n",
      " dense (Dense)               (None, 128)               802944    \n",
      "                                                                 \n",
      " dense_1 (Dense)             (None, 1)                 129       \n",
      "                                                                 \n",
      "=================================================================\n",
      "Total params: 813217 (3.10 MB)\n",
      "Trainable params: 813217 (3.10 MB)\n",
      "Non-trainable params: 0 (0.00 Byte)\n",
      "_________________________________________________________________\n"
     ]
    }
   ],
   "source": [
    "# import visualkeras\n",
    "\n",
    "# visualkeras.layered_view(cnn)\n",
    "cnn.summary()"
   ]
  },
  {
   "cell_type": "markdown",
   "metadata": {},
   "source": [
    "## Part 3 - Training the CNN "
   ]
  },
  {
   "cell_type": "markdown",
   "metadata": {},
   "source": [
    "### Compiling the CNN"
   ]
  },
  {
   "cell_type": "code",
   "execution_count": 15,
   "metadata": {},
   "outputs": [],
   "source": [
    "cnn.compile(optimizer=\"adam\", loss=\"binary_crossentropy\", metrics=[\"accuracy\"])"
   ]
  },
  {
   "cell_type": "markdown",
   "metadata": {},
   "source": [
    "### Training the CNN on the Training set and evaluating it on th Test set"
   ]
  },
  {
   "cell_type": "code",
   "execution_count": 16,
   "metadata": {},
   "outputs": [
    {
     "name": "stdout",
     "output_type": "stream",
     "text": [
      "Epoch 1/25\n",
      "250/250 [==============================] - 17s 67ms/step - loss: 0.6660 - accuracy: 0.5994 - val_loss: 0.6282 - val_accuracy: 0.6685\n",
      "Epoch 2/25\n",
      "250/250 [==============================] - 17s 70ms/step - loss: 0.6006 - accuracy: 0.6793 - val_loss: 0.6543 - val_accuracy: 0.6270\n",
      "Epoch 3/25\n",
      "250/250 [==============================] - 17s 68ms/step - loss: 0.5646 - accuracy: 0.7050 - val_loss: 0.5190 - val_accuracy: 0.7550\n",
      "Epoch 4/25\n",
      "250/250 [==============================] - 17s 67ms/step - loss: 0.5264 - accuracy: 0.7297 - val_loss: 0.5224 - val_accuracy: 0.7530\n",
      "Epoch 5/25\n",
      "250/250 [==============================] - 17s 68ms/step - loss: 0.4979 - accuracy: 0.7519 - val_loss: 0.4730 - val_accuracy: 0.7755\n",
      "Epoch 6/25\n",
      "250/250 [==============================] - 17s 68ms/step - loss: 0.4732 - accuracy: 0.7710 - val_loss: 0.5064 - val_accuracy: 0.7650\n",
      "Epoch 7/25\n",
      "250/250 [==============================] - 17s 67ms/step - loss: 0.4548 - accuracy: 0.7856 - val_loss: 0.4715 - val_accuracy: 0.7880\n",
      "Epoch 8/25\n",
      "250/250 [==============================] - 16s 66ms/step - loss: 0.4419 - accuracy: 0.7912 - val_loss: 0.5160 - val_accuracy: 0.7585\n",
      "Epoch 9/25\n",
      "250/250 [==============================] - 17s 67ms/step - loss: 0.4275 - accuracy: 0.8006 - val_loss: 0.4695 - val_accuracy: 0.7900\n",
      "Epoch 10/25\n",
      "250/250 [==============================] - 17s 68ms/step - loss: 0.4159 - accuracy: 0.8077 - val_loss: 0.4612 - val_accuracy: 0.7900\n",
      "Epoch 11/25\n",
      "250/250 [==============================] - 17s 66ms/step - loss: 0.3998 - accuracy: 0.8149 - val_loss: 0.4675 - val_accuracy: 0.7845\n",
      "Epoch 12/25\n",
      "250/250 [==============================] - 17s 66ms/step - loss: 0.3828 - accuracy: 0.8276 - val_loss: 0.4461 - val_accuracy: 0.8045\n",
      "Epoch 13/25\n",
      "250/250 [==============================] - 17s 68ms/step - loss: 0.3728 - accuracy: 0.8317 - val_loss: 0.4555 - val_accuracy: 0.7950\n",
      "Epoch 14/25\n",
      "250/250 [==============================] - 108s 434ms/step - loss: 0.3508 - accuracy: 0.8421 - val_loss: 0.4430 - val_accuracy: 0.8085\n",
      "Epoch 15/25\n",
      "250/250 [==============================] - 17s 69ms/step - loss: 0.3423 - accuracy: 0.8475 - val_loss: 0.4938 - val_accuracy: 0.7710\n",
      "Epoch 16/25\n",
      "250/250 [==============================] - 17s 68ms/step - loss: 0.3266 - accuracy: 0.8580 - val_loss: 0.4617 - val_accuracy: 0.7995\n",
      "Epoch 17/25\n",
      "250/250 [==============================] - 17s 68ms/step - loss: 0.3184 - accuracy: 0.8610 - val_loss: 0.4927 - val_accuracy: 0.7910\n",
      "Epoch 18/25\n",
      "250/250 [==============================] - 17s 66ms/step - loss: 0.3092 - accuracy: 0.8641 - val_loss: 0.4493 - val_accuracy: 0.8085\n",
      "Epoch 19/25\n",
      "250/250 [==============================] - 17s 66ms/step - loss: 0.2871 - accuracy: 0.8810 - val_loss: 0.4532 - val_accuracy: 0.8115\n",
      "Epoch 20/25\n",
      "250/250 [==============================] - 17s 67ms/step - loss: 0.2838 - accuracy: 0.8792 - val_loss: 0.4809 - val_accuracy: 0.8100\n",
      "Epoch 21/25\n",
      "250/250 [==============================] - 17s 66ms/step - loss: 0.2610 - accuracy: 0.8892 - val_loss: 0.4889 - val_accuracy: 0.7990\n",
      "Epoch 22/25\n",
      "250/250 [==============================] - 16s 66ms/step - loss: 0.2514 - accuracy: 0.8931 - val_loss: 0.5876 - val_accuracy: 0.7750\n",
      "Epoch 23/25\n",
      "250/250 [==============================] - 17s 66ms/step - loss: 0.2440 - accuracy: 0.9001 - val_loss: 0.5426 - val_accuracy: 0.7930\n",
      "Epoch 24/25\n",
      "250/250 [==============================] - 16s 66ms/step - loss: 0.2198 - accuracy: 0.9129 - val_loss: 0.5089 - val_accuracy: 0.8055\n",
      "Epoch 25/25\n",
      "250/250 [==============================] - 234s 941ms/step - loss: 0.2178 - accuracy: 0.9107 - val_loss: 0.5471 - val_accuracy: 0.8085\n"
     ]
    },
    {
     "data": {
      "text/plain": [
       "<keras.src.callbacks.History at 0x2b8102c90>"
      ]
     },
     "execution_count": 16,
     "metadata": {},
     "output_type": "execute_result"
    }
   ],
   "source": [
    "if not LOAD_PRETRAINED_MODEL:\n",
    "    cnn.fit(x=training_set, validation_data=test_set, epochs=25)\n",
    "    cnn.save(MODEL_FILE)"
   ]
  },
  {
   "cell_type": "code",
   "execution_count": null,
   "metadata": {},
   "outputs": [],
   "source": [
    "# loading model\n",
    "if LOAD_PRETRAINED_MODEL:\n",
    "    cnn = tf.keras.models.load_model(MODEL_FILE)"
   ]
  },
  {
   "cell_type": "markdown",
   "metadata": {},
   "source": [
    "## Part 4 - Making a Single Prediction"
   ]
  },
  {
   "cell_type": "code",
   "execution_count": 24,
   "metadata": {},
   "outputs": [
    {
     "data": {
      "text/plain": [
       "{'cats': 0, 'dogs': 1}"
      ]
     },
     "execution_count": 24,
     "metadata": {},
     "output_type": "execute_result"
    }
   ],
   "source": [
    "# See indices of classes\n",
    "\n",
    "training_set.class_indices"
   ]
  },
  {
   "cell_type": "code",
   "execution_count": 28,
   "metadata": {},
   "outputs": [
    {
     "name": "stdout",
     "output_type": "stream",
     "text": [
      "1/1 [==============================] - 0s 15ms/step\n",
      "dog\n"
     ]
    }
   ],
   "source": [
    "import numpy as np\n",
    "from keras.preprocessing import image\n",
    "\n",
    "img = SIGLE_PREDICTION_FOLDER + \"/cat_or_dog_1.jpg\"\n",
    "test_image = image.load_img(img, target_size=PRE_SIZE)\n",
    "\n",
    "# convert image to array\n",
    "test_image = image.img_to_array(test_image)\n",
    "# add batch dimension\n",
    "test_image = np.expand_dims(test_image, axis=0)\n",
    "\n",
    "\n",
    "result = cnn.predict(test_image / 255.0)\n",
    "\n",
    "prediction = \"\"\n",
    "if result[0][0] > 0.5:\n",
    "    prediction = \"dog\"\n",
    "else:\n",
    "    prediction = \"cat\"\n",
    "\n",
    "print(prediction)"
   ]
  }
 ],
 "metadata": {
  "kernelspec": {
   "display_name": ".venv",
   "language": "python",
   "name": "python3"
  },
  "language_info": {
   "codemirror_mode": {
    "name": "ipython",
    "version": 3
   },
   "file_extension": ".py",
   "mimetype": "text/x-python",
   "name": "python",
   "nbconvert_exporter": "python",
   "pygments_lexer": "ipython3",
   "version": "3.11.2"
  },
  "orig_nbformat": 4
 },
 "nbformat": 4,
 "nbformat_minor": 2
}
