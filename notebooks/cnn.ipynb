{
 "cells": [
  {
   "cell_type": "markdown",
   "metadata": {},
   "source": [
    "# CNN"
   ]
  },
  {
   "cell_type": "code",
   "execution_count": 1,
   "metadata": {},
   "outputs": [],
   "source": [
    "DATASET_FOLDER = \"../data/dataset\"\n",
    "TRAINING_DATA_FOLDER = DATASET_FOLDER + \"/training_set\"\n",
    "TESTING_DATA_FOLDER = DATASET_FOLDER + \"/test_set\"\n",
    "SIGLE_PREDICTION_FOLDER = DATASET_FOLDER + \"/single_prediction\"\n",
    "\n",
    "MODEL_FILE = \"../models/cnn_model.keras\"\n",
    "LOAD_PRETRAINED_MODEL = True"
   ]
  },
  {
   "cell_type": "code",
   "execution_count": null,
   "metadata": {},
   "outputs": [],
   "source": [
    "from os.path import join"
   ]
  },
  {
   "cell_type": "markdown",
   "metadata": {},
   "source": [
    "## Importing the Libraries"
   ]
  },
  {
   "cell_type": "code",
   "execution_count": 2,
   "metadata": {},
   "outputs": [],
   "source": [
    "import tensorflow as tf\n",
    "from keras.preprocessing.image import ImageDataGenerator"
   ]
  },
  {
   "cell_type": "code",
   "execution_count": 3,
   "metadata": {},
   "outputs": [
    {
     "data": {
      "text/plain": [
       "'2.14.0'"
      ]
     },
     "execution_count": 3,
     "metadata": {},
     "output_type": "execute_result"
    }
   ],
   "source": [
    "tf.__version__"
   ]
  },
  {
   "cell_type": "markdown",
   "metadata": {},
   "source": [
    "## Part 1 - Data Preprocessing"
   ]
  },
  {
   "cell_type": "markdown",
   "metadata": {},
   "source": [
    "### Preprocessing the Training set"
   ]
  },
  {
   "cell_type": "code",
   "execution_count": 4,
   "metadata": {},
   "outputs": [],
   "source": [
    "PRE_RESCALE = 1.0 / 255\n",
    "PRE_SIZE = (64, 64)\n",
    "PRE_BATCH_SIZE = 32"
   ]
  },
  {
   "cell_type": "code",
   "execution_count": 5,
   "metadata": {},
   "outputs": [
    {
     "name": "stdout",
     "output_type": "stream",
     "text": [
      "Found 8000 images belonging to 2 classes.\n"
     ]
    }
   ],
   "source": [
    "# image augmentation\n",
    "train_datagen = ImageDataGenerator(\n",
    "    rescale=PRE_RESCALE, shear_range=0.2, zoom_range=0.2, horizontal_flip=True\n",
    ")\n",
    "\n",
    "training_set = train_datagen.flow_from_directory(\n",
    "    TRAINING_DATA_FOLDER,\n",
    "    target_size=PRE_SIZE,\n",
    "    batch_size=PRE_BATCH_SIZE,\n",
    "    class_mode=\"binary\",\n",
    ")"
   ]
  },
  {
   "cell_type": "markdown",
   "metadata": {},
   "source": [
    "### Preprocessing the Test set"
   ]
  },
  {
   "cell_type": "code",
   "execution_count": 6,
   "metadata": {},
   "outputs": [
    {
     "name": "stdout",
     "output_type": "stream",
     "text": [
      "Found 2000 images belonging to 2 classes.\n"
     ]
    }
   ],
   "source": [
    "test_datagen = ImageDataGenerator(rescale=PRE_RESCALE)\n",
    "test_set = test_datagen.flow_from_directory(\n",
    "    TESTING_DATA_FOLDER,\n",
    "    target_size=PRE_SIZE,\n",
    "    batch_size=PRE_BATCH_SIZE,\n",
    "    class_mode=\"binary\",\n",
    ")"
   ]
  },
  {
   "cell_type": "markdown",
   "metadata": {},
   "source": [
    "## Part 2 - Building the CNN"
   ]
  },
  {
   "cell_type": "markdown",
   "metadata": {},
   "source": [
    "### Initialising the CNN"
   ]
  },
  {
   "cell_type": "code",
   "execution_count": 7,
   "metadata": {},
   "outputs": [],
   "source": [
    "cnn = tf.keras.models.Sequential()"
   ]
  },
  {
   "cell_type": "markdown",
   "metadata": {},
   "source": [
    "#### Step 1 - Convolution"
   ]
  },
  {
   "cell_type": "code",
   "execution_count": 8,
   "metadata": {},
   "outputs": [],
   "source": [
    "cnn.add(\n",
    "    tf.keras.layers.Conv2D(\n",
    "        filters=32, kernel_size=3, activation=\"relu\", input_shape=[64, 64, 3]\n",
    "    )\n",
    ")"
   ]
  },
  {
   "cell_type": "markdown",
   "metadata": {},
   "source": [
    "#### Step 2 - Pooling"
   ]
  },
  {
   "cell_type": "code",
   "execution_count": 9,
   "metadata": {},
   "outputs": [],
   "source": [
    "cnn.add(tf.keras.layers.MaxPool2D(pool_size=2, strides=2))"
   ]
  },
  {
   "cell_type": "markdown",
   "metadata": {},
   "source": [
    "### Adding a second convolutional layer"
   ]
  },
  {
   "cell_type": "code",
   "execution_count": 10,
   "metadata": {},
   "outputs": [],
   "source": [
    "cnn.add(tf.keras.layers.Conv2D(filters=32, kernel_size=3, activation=\"relu\"))\n",
    "cnn.add(tf.keras.layers.MaxPool2D(pool_size=2, strides=2))"
   ]
  },
  {
   "cell_type": "markdown",
   "metadata": {},
   "source": [
    "#### Step 3 - Flattening"
   ]
  },
  {
   "cell_type": "code",
   "execution_count": 11,
   "metadata": {},
   "outputs": [],
   "source": [
    "cnn.add(tf.keras.layers.Flatten())"
   ]
  },
  {
   "cell_type": "markdown",
   "metadata": {},
   "source": [
    "#### Step 4 - Full Connection"
   ]
  },
  {
   "cell_type": "code",
   "execution_count": 12,
   "metadata": {},
   "outputs": [],
   "source": [
    "cnn.add(tf.keras.layers.Dense(units=128, activation=\"relu\"))"
   ]
  },
  {
   "cell_type": "markdown",
   "metadata": {},
   "source": [
    "#### Step 5 - Output Layer"
   ]
  },
  {
   "cell_type": "code",
   "execution_count": 13,
   "metadata": {},
   "outputs": [],
   "source": [
    "cnn.add(tf.keras.layers.Dense(units=1, activation=\"sigmoid\"))"
   ]
  },
  {
   "cell_type": "code",
   "execution_count": 14,
   "metadata": {},
   "outputs": [
    {
     "name": "stdout",
     "output_type": "stream",
     "text": [
      "Model: \"sequential\"\n",
      "_________________________________________________________________\n",
      " Layer (type)                Output Shape              Param #   \n",
      "=================================================================\n",
      " conv2d (Conv2D)             (None, 62, 62, 32)        896       \n",
      "                                                                 \n",
      " max_pooling2d (MaxPooling2  (None, 31, 31, 32)        0         \n",
      " D)                                                              \n",
      "                                                                 \n",
      " conv2d_1 (Conv2D)           (None, 29, 29, 32)        9248      \n",
      "                                                                 \n",
      " max_pooling2d_1 (MaxPoolin  (None, 14, 14, 32)        0         \n",
      " g2D)                                                            \n",
      "                                                                 \n",
      " flatten (Flatten)           (None, 6272)              0         \n",
      "                                                                 \n",
      " dense (Dense)               (None, 128)               802944    \n",
      "                                                                 \n",
      " dense_1 (Dense)             (None, 1)                 129       \n",
      "                                                                 \n",
      "=================================================================\n",
      "Total params: 813217 (3.10 MB)\n",
      "Trainable params: 813217 (3.10 MB)\n",
      "Non-trainable params: 0 (0.00 Byte)\n",
      "_________________________________________________________________\n"
     ]
    }
   ],
   "source": [
    "# import visualkeras\n",
    "\n",
    "# visualkeras.layered_view(cnn)\n",
    "cnn.summary()"
   ]
  },
  {
   "cell_type": "markdown",
   "metadata": {},
   "source": [
    "## Part 3 - Training the CNN "
   ]
  },
  {
   "cell_type": "markdown",
   "metadata": {},
   "source": [
    "### Compiling the CNN"
   ]
  },
  {
   "cell_type": "code",
   "execution_count": 15,
   "metadata": {},
   "outputs": [],
   "source": [
    "cnn.compile(optimizer=\"adam\", loss=\"binary_crossentropy\", metrics=[\"accuracy\"])"
   ]
  },
  {
   "cell_type": "markdown",
   "metadata": {},
   "source": [
    "### Training the CNN on the Training set and evaluating it on th Test set"
   ]
  },
  {
   "cell_type": "code",
   "execution_count": 19,
   "metadata": {},
   "outputs": [
    {
     "name": "stdout",
     "output_type": "stream",
     "text": [
      "Epoch 1/25\n",
      "250/250 [==============================] - 17s 66ms/step - loss: 0.2565 - accuracy: 0.8910 - val_loss: 0.5115 - val_accuracy: 0.8080\n",
      "Epoch 2/25\n",
      "250/250 [==============================] - 17s 66ms/step - loss: 0.2483 - accuracy: 0.8982 - val_loss: 0.5092 - val_accuracy: 0.8060\n",
      "Epoch 3/25\n",
      "250/250 [==============================] - 16s 66ms/step - loss: 0.2502 - accuracy: 0.8903 - val_loss: 0.5024 - val_accuracy: 0.8105\n",
      "Epoch 4/25\n",
      "250/250 [==============================] - 16s 66ms/step - loss: 0.2353 - accuracy: 0.9036 - val_loss: 0.5773 - val_accuracy: 0.7915\n",
      "Epoch 5/25\n",
      "250/250 [==============================] - 16s 65ms/step - loss: 0.2265 - accuracy: 0.9061 - val_loss: 0.5780 - val_accuracy: 0.7880\n",
      "Epoch 6/25\n",
      "250/250 [==============================] - 16s 64ms/step - loss: 0.2236 - accuracy: 0.9094 - val_loss: 0.5358 - val_accuracy: 0.8025\n",
      "Epoch 7/25\n",
      "250/250 [==============================] - 16s 66ms/step - loss: 0.2102 - accuracy: 0.9120 - val_loss: 0.5919 - val_accuracy: 0.7930\n",
      "Epoch 8/25\n",
      "250/250 [==============================] - 16s 65ms/step - loss: 0.1972 - accuracy: 0.9226 - val_loss: 0.5733 - val_accuracy: 0.8020\n",
      "Epoch 9/25\n",
      "250/250 [==============================] - 16s 66ms/step - loss: 0.1910 - accuracy: 0.9222 - val_loss: 0.6562 - val_accuracy: 0.7920\n",
      "Epoch 10/25\n",
      "250/250 [==============================] - 17s 67ms/step - loss: 0.1868 - accuracy: 0.9230 - val_loss: 0.5505 - val_accuracy: 0.8165\n",
      "Epoch 11/25\n",
      "250/250 [==============================] - 17s 66ms/step - loss: 0.1770 - accuracy: 0.9268 - val_loss: 0.6065 - val_accuracy: 0.8110\n",
      "Epoch 12/25\n",
      "250/250 [==============================] - 16s 66ms/step - loss: 0.1676 - accuracy: 0.9339 - val_loss: 0.5704 - val_accuracy: 0.8055\n",
      "Epoch 13/25\n",
      "250/250 [==============================] - 17s 66ms/step - loss: 0.1737 - accuracy: 0.9301 - val_loss: 0.5637 - val_accuracy: 0.8155\n",
      "Epoch 14/25\n",
      "250/250 [==============================] - 17s 66ms/step - loss: 0.1655 - accuracy: 0.9356 - val_loss: 0.6441 - val_accuracy: 0.8030\n",
      "Epoch 15/25\n",
      "250/250 [==============================] - 16s 66ms/step - loss: 0.1581 - accuracy: 0.9362 - val_loss: 0.6183 - val_accuracy: 0.8030\n",
      "Epoch 16/25\n",
      "250/250 [==============================] - 16s 66ms/step - loss: 0.1581 - accuracy: 0.9375 - val_loss: 0.6449 - val_accuracy: 0.7950\n",
      "Epoch 17/25\n",
      "250/250 [==============================] - 17s 66ms/step - loss: 0.1557 - accuracy: 0.9416 - val_loss: 0.6312 - val_accuracy: 0.8050\n",
      "Epoch 18/25\n",
      "250/250 [==============================] - 17s 66ms/step - loss: 0.1512 - accuracy: 0.9420 - val_loss: 0.6508 - val_accuracy: 0.8085\n",
      "Epoch 19/25\n",
      "250/250 [==============================] - 16s 66ms/step - loss: 0.1418 - accuracy: 0.9455 - val_loss: 0.7906 - val_accuracy: 0.7750\n",
      "Epoch 20/25\n",
      "250/250 [==============================] - 16s 66ms/step - loss: 0.1291 - accuracy: 0.9486 - val_loss: 0.7559 - val_accuracy: 0.7900\n",
      "Epoch 21/25\n",
      "250/250 [==============================] - 16s 66ms/step - loss: 0.1321 - accuracy: 0.9486 - val_loss: 0.6788 - val_accuracy: 0.8010\n",
      "Epoch 22/25\n",
      "250/250 [==============================] - 17s 66ms/step - loss: 0.1414 - accuracy: 0.9467 - val_loss: 0.7190 - val_accuracy: 0.7980\n",
      "Epoch 23/25\n",
      "250/250 [==============================] - 17s 66ms/step - loss: 0.1325 - accuracy: 0.9503 - val_loss: 0.6844 - val_accuracy: 0.8020\n",
      "Epoch 24/25\n",
      "250/250 [==============================] - 17s 67ms/step - loss: 0.1199 - accuracy: 0.9525 - val_loss: 0.8158 - val_accuracy: 0.7695\n",
      "Epoch 25/25\n",
      "250/250 [==============================] - 17s 66ms/step - loss: 0.1152 - accuracy: 0.9546 - val_loss: 0.7303 - val_accuracy: 0.8030\n"
     ]
    }
   ],
   "source": [
    "if not LOAD_PRETRAINED_MODEL:\n",
    "    cnn.fit(x=training_set, validation_data=test_set, epochs=25)\n",
    "    cnn.save(MODEL_FILE)"
   ]
  },
  {
   "cell_type": "code",
   "execution_count": null,
   "metadata": {},
   "outputs": [],
   "source": [
    "# loading model\n",
    "if LOAD_PRETRAINED_MODEL:\n",
    "    cnn = tf.keras.models.load_model(MODEL_FILE)"
   ]
  },
  {
   "cell_type": "markdown",
   "metadata": {},
   "source": [
    "## Part 4 - Making a Single Prediction"
   ]
  },
  {
   "cell_type": "code",
   "execution_count": 17,
   "metadata": {},
   "outputs": [
    {
     "data": {
      "text/plain": [
       "{'cats': 0, 'dogs': 1}"
      ]
     },
     "execution_count": 17,
     "metadata": {},
     "output_type": "execute_result"
    }
   ],
   "source": [
    "# See indices of classes\n",
    "\n",
    "training_set.class_indices"
   ]
  },
  {
   "cell_type": "code",
   "execution_count": 18,
   "metadata": {},
   "outputs": [
    {
     "name": "stdout",
     "output_type": "stream",
     "text": [
      "1/1 [==============================] - 0s 44ms/step\n",
      "dog\n"
     ]
    }
   ],
   "source": [
    "import numpy as np\n",
    "from keras.preprocessing import image\n",
    "\n",
    "img = SIGLE_PREDICTION_FOLDER + \"/cat_or_dog_1.jpg\"\n",
    "test_image = image.load_img(img, target_size=PRE_SIZE)\n",
    "\n",
    "# convert image to array\n",
    "test_image = image.img_to_array(test_image)\n",
    "# add batch dimension\n",
    "test_image = np.expand_dims(test_image, axis=0)\n",
    "\n",
    "\n",
    "result = cnn.predict(test_image / 255.0)\n",
    "\n",
    "prediction = \"\"\n",
    "if result[0][0] > 0.5:\n",
    "    prediction = \"dog\"\n",
    "else:\n",
    "    prediction = \"cat\"\n",
    "\n",
    "print(prediction)"
   ]
  },
  {
   "cell_type": "markdown",
   "metadata": {},
   "source": [
    "## Testing the CNN on a testing dataset"
   ]
  },
  {
   "cell_type": "code",
   "execution_count": 23,
   "metadata": {},
   "outputs": [
    {
     "name": "stdout",
     "output_type": "stream",
     "text": [
      "Found 2000 images belonging to 2 classes.\n"
     ]
    }
   ],
   "source": [
    "# test cnn and calculate accuracy\n",
    "# CAT_TESTING_FOLDER = TESTING_DATA_FOLDER + \"/cats\"\n",
    "# DOG_TESTING_FOLDER = TESTING_DATA_FOLDER + \"/dogs\"\n",
    "\n",
    "testing_set = test_datagen.flow_from_directory(\n",
    "    TESTING_DATA_FOLDER,\n",
    "    target_size=PRE_SIZE,\n",
    "    batch_size=PRE_BATCH_SIZE,\n",
    "    class_mode=\"binary\",\n",
    ")\n"
   ]
  },
  {
   "cell_type": "code",
   "execution_count": 26,
   "metadata": {},
   "outputs": [
    {
     "name": "stdout",
     "output_type": "stream",
     "text": [
      "63/63 [==============================] - 2s 39ms/step - loss: 0.7303 - accuracy: 0.8030\n",
      "Accuracy: 80.29999732971191%\n"
     ]
    }
   ],
   "source": [
    "# run prediction on test set and calculate accuracy\n",
    "accuracy = cnn.evaluate(testing_set)[1]\n",
    "\n",
    "print(\"Accuracy: \" + str(accuracy * 100) + \"%\")"
   ]
  }
 ],
 "metadata": {
  "kernelspec": {
   "display_name": ".venv",
   "language": "python",
   "name": "python3"
  },
  "language_info": {
   "codemirror_mode": {
    "name": "ipython",
    "version": 3
   },
   "file_extension": ".py",
   "mimetype": "text/x-python",
   "name": "python",
   "nbconvert_exporter": "python",
   "pygments_lexer": "ipython3",
   "version": "3.11.2"
  },
  "orig_nbformat": 4
 },
 "nbformat": 4,
 "nbformat_minor": 2
}
